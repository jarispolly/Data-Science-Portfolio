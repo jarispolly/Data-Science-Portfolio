{
 "cells": [
  {
   "cell_type": "code",
   "execution_count": 1,
   "id": "ff87151c-8c5c-4f76-95b3-18df9b5348e0",
   "metadata": {},
   "outputs": [],
   "source": [
    "import pandas as pd\n",
    "import numpy as np\n",
    "from scipy.stats import norm\n",
    "from scipy import stats"
   ]
  },
  {
   "cell_type": "code",
   "execution_count": 2,
   "id": "f1d2c538-ad89-49b2-b219-d2e4c81c775c",
   "metadata": {},
   "outputs": [],
   "source": [
    "import matplotlib.pyplot as plt\n",
    "import seaborn as sns"
   ]
  },
  {
   "cell_type": "code",
   "execution_count": 3,
   "id": "4e2fbf4d-11bc-4c66-a049-ffca6ce8d072",
   "metadata": {},
   "outputs": [],
   "source": [
    "anime=pd.read_csv(\"/Users/jarispolly/Desktop/Entity Academy/DS105- Intermediate Stats/anime.csv\")"
   ]
  },
  {
   "cell_type": "code",
   "execution_count": 53,
   "id": "e50063e8-bbdc-4589-bad7-251aaf414e80",
   "metadata": {},
   "outputs": [
    {
     "data": {
      "text/html": [
       "<div>\n",
       "<style scoped>\n",
       "    .dataframe tbody tr th:only-of-type {\n",
       "        vertical-align: middle;\n",
       "    }\n",
       "\n",
       "    .dataframe tbody tr th {\n",
       "        vertical-align: top;\n",
       "    }\n",
       "\n",
       "    .dataframe thead th {\n",
       "        text-align: right;\n",
       "    }\n",
       "</style>\n",
       "<table border=\"1\" class=\"dataframe\">\n",
       "  <thead>\n",
       "    <tr style=\"text-align: right;\">\n",
       "      <th></th>\n",
       "      <th>anime_id</th>\n",
       "      <th>title</th>\n",
       "      <th>title_english</th>\n",
       "      <th>title_japanese</th>\n",
       "      <th>title_synonyms</th>\n",
       "      <th>image_url</th>\n",
       "      <th>type</th>\n",
       "      <th>source</th>\n",
       "      <th>episodes</th>\n",
       "      <th>status</th>\n",
       "      <th>...</th>\n",
       "      <th>related</th>\n",
       "      <th>producer</th>\n",
       "      <th>licensor</th>\n",
       "      <th>studio</th>\n",
       "      <th>genre</th>\n",
       "      <th>opening_theme</th>\n",
       "      <th>ending_theme</th>\n",
       "      <th>duration_min</th>\n",
       "      <th>aired_from_year</th>\n",
       "      <th>sourceR</th>\n",
       "    </tr>\n",
       "  </thead>\n",
       "  <tbody>\n",
       "    <tr>\n",
       "      <th>0</th>\n",
       "      <td>11013</td>\n",
       "      <td>Inu x Boku SS</td>\n",
       "      <td>Inu X Boku Secret Service</td>\n",
       "      <td>妖狐×僕SS</td>\n",
       "      <td>Youko x Boku SS</td>\n",
       "      <td>https://myanimelist.cdn-dena.com/images/anime/...</td>\n",
       "      <td>TV</td>\n",
       "      <td>Manga</td>\n",
       "      <td>12</td>\n",
       "      <td>Finished Airing</td>\n",
       "      <td>...</td>\n",
       "      <td>{'Adaptation': [{'mal_id': 17207, 'type': 'man...</td>\n",
       "      <td>Aniplex, Square Enix, Mainichi Broadcasting Sy...</td>\n",
       "      <td>Sentai Filmworks</td>\n",
       "      <td>David Production</td>\n",
       "      <td>Comedy, Supernatural, Romance, Shounen</td>\n",
       "      <td>['\"Nirvana\" by MUCC']</td>\n",
       "      <td>['#1: \"Nirvana\" by MUCC (eps 1, 11-12)', '#2: ...</td>\n",
       "      <td>24.0</td>\n",
       "      <td>2012</td>\n",
       "      <td>Manga</td>\n",
       "    </tr>\n",
       "    <tr>\n",
       "      <th>1</th>\n",
       "      <td>2104</td>\n",
       "      <td>Seto no Hanayome</td>\n",
       "      <td>My Bride is a Mermaid</td>\n",
       "      <td>瀬戸の花嫁</td>\n",
       "      <td>The Inland Sea Bride</td>\n",
       "      <td>https://myanimelist.cdn-dena.com/images/anime/...</td>\n",
       "      <td>TV</td>\n",
       "      <td>Manga</td>\n",
       "      <td>26</td>\n",
       "      <td>Finished Airing</td>\n",
       "      <td>...</td>\n",
       "      <td>{'Adaptation': [{'mal_id': 759, 'type': 'manga...</td>\n",
       "      <td>TV Tokyo, AIC, Square Enix, Sotsu</td>\n",
       "      <td>Funimation</td>\n",
       "      <td>Gonzo</td>\n",
       "      <td>Comedy, Parody, Romance, School, Shounen</td>\n",
       "      <td>['\"Romantic summer\" by SUN&amp;LUNAR']</td>\n",
       "      <td>['#1: \"Ashita e no Hikari (明日への光)\" by Asuka Hi...</td>\n",
       "      <td>24.0</td>\n",
       "      <td>2007</td>\n",
       "      <td>Manga</td>\n",
       "    </tr>\n",
       "    <tr>\n",
       "      <th>2</th>\n",
       "      <td>5262</td>\n",
       "      <td>Shugo Chara!! Doki</td>\n",
       "      <td>Shugo Chara!! Doki</td>\n",
       "      <td>しゅごキャラ！！どきっ</td>\n",
       "      <td>Shugo Chara Ninenme, Shugo Chara! Second Year</td>\n",
       "      <td>https://myanimelist.cdn-dena.com/images/anime/...</td>\n",
       "      <td>TV</td>\n",
       "      <td>Manga</td>\n",
       "      <td>51</td>\n",
       "      <td>Finished Airing</td>\n",
       "      <td>...</td>\n",
       "      <td>{'Adaptation': [{'mal_id': 101, 'type': 'manga...</td>\n",
       "      <td>TV Tokyo, Sotsu</td>\n",
       "      <td>NaN</td>\n",
       "      <td>Satelight</td>\n",
       "      <td>Comedy, Magic, School, Shoujo</td>\n",
       "      <td>['#1: \"Minna no Tamago (みんなのたまご)\" by Shugo Cha...</td>\n",
       "      <td>['#1: \"Rottara Rottara (ロッタラ ロッタラ)\" by Buono! ...</td>\n",
       "      <td>24.0</td>\n",
       "      <td>2008</td>\n",
       "      <td>Manga</td>\n",
       "    </tr>\n",
       "    <tr>\n",
       "      <th>3</th>\n",
       "      <td>721</td>\n",
       "      <td>Princess Tutu</td>\n",
       "      <td>Princess Tutu</td>\n",
       "      <td>プリンセスチュチュ</td>\n",
       "      <td>NaN</td>\n",
       "      <td>https://myanimelist.cdn-dena.com/images/anime/...</td>\n",
       "      <td>TV</td>\n",
       "      <td>Original</td>\n",
       "      <td>38</td>\n",
       "      <td>Finished Airing</td>\n",
       "      <td>...</td>\n",
       "      <td>{'Adaptation': [{'mal_id': 1581, 'type': 'mang...</td>\n",
       "      <td>Memory-Tech, GANSIS, Marvelous AQL</td>\n",
       "      <td>ADV Films</td>\n",
       "      <td>Hal Film Maker</td>\n",
       "      <td>Comedy, Drama, Magic, Romance, Fantasy</td>\n",
       "      <td>['\"Morning Grace\" by Ritsuko Okazaki']</td>\n",
       "      <td>['\"Watashi No Ai Wa Chiisaikeredo\" by Ritsuko ...</td>\n",
       "      <td>16.0</td>\n",
       "      <td>2002</td>\n",
       "      <td>Other</td>\n",
       "    </tr>\n",
       "    <tr>\n",
       "      <th>4</th>\n",
       "      <td>12365</td>\n",
       "      <td>Bakuman. 3rd Season</td>\n",
       "      <td>Bakuman.</td>\n",
       "      <td>バクマン。</td>\n",
       "      <td>Bakuman Season 3</td>\n",
       "      <td>https://myanimelist.cdn-dena.com/images/anime/...</td>\n",
       "      <td>TV</td>\n",
       "      <td>Manga</td>\n",
       "      <td>25</td>\n",
       "      <td>Finished Airing</td>\n",
       "      <td>...</td>\n",
       "      <td>{'Adaptation': [{'mal_id': 9711, 'type': 'mang...</td>\n",
       "      <td>NHK, Shueisha</td>\n",
       "      <td>NaN</td>\n",
       "      <td>J.C.Staff</td>\n",
       "      <td>Comedy, Drama, Romance, Shounen</td>\n",
       "      <td>['#1: \"Moshimo no Hanashi (もしもの話)\" by nano.RIP...</td>\n",
       "      <td>['#1: \"Pride on Everyday\" by Sphere (eps 1-13)...</td>\n",
       "      <td>24.0</td>\n",
       "      <td>2012</td>\n",
       "      <td>Manga</td>\n",
       "    </tr>\n",
       "  </tbody>\n",
       "</table>\n",
       "<p>5 rows × 34 columns</p>\n",
       "</div>"
      ],
      "text/plain": [
       "   anime_id                title              title_english title_japanese  \\\n",
       "0     11013        Inu x Boku SS  Inu X Boku Secret Service         妖狐×僕SS   \n",
       "1      2104     Seto no Hanayome      My Bride is a Mermaid          瀬戸の花嫁   \n",
       "2      5262   Shugo Chara!! Doki         Shugo Chara!! Doki    しゅごキャラ！！どきっ   \n",
       "3       721        Princess Tutu              Princess Tutu      プリンセスチュチュ   \n",
       "4     12365  Bakuman. 3rd Season                   Bakuman.          バクマン。   \n",
       "\n",
       "                                  title_synonyms  \\\n",
       "0                                Youko x Boku SS   \n",
       "1                           The Inland Sea Bride   \n",
       "2  Shugo Chara Ninenme, Shugo Chara! Second Year   \n",
       "3                                            NaN   \n",
       "4                               Bakuman Season 3   \n",
       "\n",
       "                                           image_url type    source  episodes  \\\n",
       "0  https://myanimelist.cdn-dena.com/images/anime/...   TV     Manga        12   \n",
       "1  https://myanimelist.cdn-dena.com/images/anime/...   TV     Manga        26   \n",
       "2  https://myanimelist.cdn-dena.com/images/anime/...   TV     Manga        51   \n",
       "3  https://myanimelist.cdn-dena.com/images/anime/...   TV  Original        38   \n",
       "4  https://myanimelist.cdn-dena.com/images/anime/...   TV     Manga        25   \n",
       "\n",
       "            status  ...                                            related  \\\n",
       "0  Finished Airing  ...  {'Adaptation': [{'mal_id': 17207, 'type': 'man...   \n",
       "1  Finished Airing  ...  {'Adaptation': [{'mal_id': 759, 'type': 'manga...   \n",
       "2  Finished Airing  ...  {'Adaptation': [{'mal_id': 101, 'type': 'manga...   \n",
       "3  Finished Airing  ...  {'Adaptation': [{'mal_id': 1581, 'type': 'mang...   \n",
       "4  Finished Airing  ...  {'Adaptation': [{'mal_id': 9711, 'type': 'mang...   \n",
       "\n",
       "                                            producer          licensor  \\\n",
       "0  Aniplex, Square Enix, Mainichi Broadcasting Sy...  Sentai Filmworks   \n",
       "1                  TV Tokyo, AIC, Square Enix, Sotsu        Funimation   \n",
       "2                                    TV Tokyo, Sotsu               NaN   \n",
       "3                 Memory-Tech, GANSIS, Marvelous AQL         ADV Films   \n",
       "4                                      NHK, Shueisha               NaN   \n",
       "\n",
       "             studio                                     genre  \\\n",
       "0  David Production    Comedy, Supernatural, Romance, Shounen   \n",
       "1             Gonzo  Comedy, Parody, Romance, School, Shounen   \n",
       "2         Satelight             Comedy, Magic, School, Shoujo   \n",
       "3    Hal Film Maker    Comedy, Drama, Magic, Romance, Fantasy   \n",
       "4         J.C.Staff           Comedy, Drama, Romance, Shounen   \n",
       "\n",
       "                                       opening_theme  \\\n",
       "0                              ['\"Nirvana\" by MUCC']   \n",
       "1                 ['\"Romantic summer\" by SUN&LUNAR']   \n",
       "2  ['#1: \"Minna no Tamago (みんなのたまご)\" by Shugo Cha...   \n",
       "3             ['\"Morning Grace\" by Ritsuko Okazaki']   \n",
       "4  ['#1: \"Moshimo no Hanashi (もしもの話)\" by nano.RIP...   \n",
       "\n",
       "                                        ending_theme  duration_min  \\\n",
       "0  ['#1: \"Nirvana\" by MUCC (eps 1, 11-12)', '#2: ...          24.0   \n",
       "1  ['#1: \"Ashita e no Hikari (明日への光)\" by Asuka Hi...          24.0   \n",
       "2  ['#1: \"Rottara Rottara (ロッタラ ロッタラ)\" by Buono! ...          24.0   \n",
       "3  ['\"Watashi No Ai Wa Chiisaikeredo\" by Ritsuko ...          16.0   \n",
       "4  ['#1: \"Pride on Everyday\" by Sphere (eps 1-13)...          24.0   \n",
       "\n",
       "   aired_from_year  sourceR  \n",
       "0             2012    Manga  \n",
       "1             2007    Manga  \n",
       "2             2008    Manga  \n",
       "3             2002    Other  \n",
       "4             2012    Manga  \n",
       "\n",
       "[5 rows x 34 columns]"
      ]
     },
     "execution_count": 53,
     "metadata": {},
     "output_type": "execute_result"
    }
   ],
   "source": [
    "anime.head()"
   ]
  },
  {
   "cell_type": "markdown",
   "id": "da18dfa6-8fa2-4b06-8cba-061f82de95e1",
   "metadata": {},
   "source": [
    "# Is a Rating Score of 6.2 Different from the Mean in this Dataset?"
   ]
  },
  {
   "cell_type": "markdown",
   "id": "4ac0bb55-cdce-4dca-87c3-8f55ce5307e4",
   "metadata": {},
   "source": [
    "## Check for assumtions"
   ]
  },
  {
   "cell_type": "code",
   "execution_count": 6,
   "id": "1bed035c-856f-40b0-a449-d9fc6ebbc385",
   "metadata": {},
   "outputs": [
    {
     "data": {
      "text/plain": [
       "<AxesSubplot:>"
      ]
     },
     "execution_count": 6,
     "metadata": {},
     "output_type": "execute_result"
    },
    {
     "data": {
      "image/png": "[encoded data removed]",
      "text/plain": [
       "<Figure size 432x288 with 1 Axes>"
      ]
     },
     "metadata": {
      "needs_background": "light"
     },
     "output_type": "display_data"
    }
   ],
   "source": [
    "anime.score.hist()"
   ]
  },
  {
   "cell_type": "markdown",
   "id": "7350ebcf-713f-496d-b5b2-8a612b80a141",
   "metadata": {},
   "source": [
    "### Yes it is normally distributed"
   ]
  },
  {
   "cell_type": "code",
   "execution_count": 8,
   "id": "55b813b0-8435-45c3-aedf-197bd8162946",
   "metadata": {},
   "outputs": [
    {
     "data": {
      "text/plain": [
       "Ttest_1sampResult(statistic=57.14153988539698, pvalue=0.0)"
      ]
     },
     "execution_count": 8,
     "metadata": {},
     "output_type": "execute_result"
    }
   ],
   "source": [
    "stats.ttest_1samp(anime.score,6.2)"
   ]
  },
  {
   "cell_type": "markdown",
   "id": "e1cdd5db-a9e7-4a9c-a72c-692ed352fe6f",
   "metadata": {},
   "source": [
    "### p value is less than .05 so it is significant which means it is different than the mean"
   ]
  },
  {
   "cell_type": "code",
   "execution_count": 9,
   "id": "a15c613a-54b4-48b5-855b-bdb4d61f32e4",
   "metadata": {},
   "outputs": [
    {
     "data": {
      "text/plain": [
       "6.848998200359928"
      ]
     },
     "execution_count": 9,
     "metadata": {},
     "output_type": "execute_result"
    }
   ],
   "source": [
    "anime.score.mean()"
   ]
  },
  {
   "cell_type": "markdown",
   "id": "02ca03b3-cada-4d3c-b379-8775f5ccb3e8",
   "metadata": {},
   "source": [
    "### the mean is higher"
   ]
  },
  {
   "cell_type": "markdown",
   "id": "5a260028-da27-4d6d-ae4c-6812d30188f0",
   "metadata": {},
   "source": [
    "# Does Anime that is Still Airing Differ in Popularity from Anime that is No Longer Airing?"
   ]
  },
  {
   "cell_type": "code",
   "execution_count": 42,
   "id": "812dc38e-1583-48e8-91dc-61894cbf3028",
   "metadata": {},
   "outputs": [],
   "source": [
    "import pandas as pd\n",
    "import numpy as np\n",
    "from scipy import stats\n",
    "from scipy.stats import ttest_ind"
   ]
  },
  {
   "cell_type": "code",
   "execution_count": 60,
   "id": "6cee416c-5f8e-43d4-9b86-951c37e292f8",
   "metadata": {},
   "outputs": [
    {
     "data": {
      "text/plain": [
       "<AxesSubplot:>"
      ]
     },
     "execution_count": 60,
     "metadata": {},
     "output_type": "execute_result"
    },
    {
     "data": {
      "image/png": "[encoded data removed]",
      "text/plain": [
       "<Figure size 432x288 with 1 Axes>"
      ]
     },
     "metadata": {
      "needs_background": "light"
     },
     "output_type": "display_data"
    }
   ],
   "source": [
    "anime['popularity'][anime['status'] == 'Finished Airing'].hist()"
   ]
  },
  {
   "cell_type": "code",
   "execution_count": 59,
   "id": "1442ecb8-6063-4950-ac13-e73119454949",
   "metadata": {},
   "outputs": [
    {
     "data": {
      "text/plain": [
       "<AxesSubplot:>"
      ]
     },
     "execution_count": 59,
     "metadata": {},
     "output_type": "execute_result"
    },
    {
     "data": {
      "image/png": "[encoded data removed]",
      "text/plain": [
       "<Figure size 432x288 with 1 Axes>"
      ]
     },
     "metadata": {
      "needs_background": "light"
     },
     "output_type": "display_data"
    }
   ],
   "source": [
    "anime['popularity'][anime['status'] ==  'Currently Airing'].hist()"
   ]
  },
  {
   "cell_type": "code",
   "execution_count": 61,
   "id": "8e1343a0-9fac-4b76-a016-8ebcac3794bf",
   "metadata": {},
   "outputs": [
    {
     "data": {
      "text/plain": [
       "Ttest_indResult(statistic=6.489071311277514, pvalue=9.256789141747445e-11)"
      ]
     },
     "execution_count": 61,
     "metadata": {},
     "output_type": "execute_result"
    }
   ],
   "source": [
    "ttest_ind(anime['popularity'][anime['status'] ==  'Currently Airing'], anime['popularity'][anime['status'] == 'Finished Airing'])"
   ]
  },
  {
   "cell_type": "code",
   "execution_count": 62,
   "id": "153c7b3f-d8bf-4493-acad-41003446ca6e",
   "metadata": {},
   "outputs": [
    {
     "data": {
      "text/plain": [
       "6108.131147540984"
      ]
     },
     "execution_count": 62,
     "metadata": {},
     "output_type": "execute_result"
    }
   ],
   "source": [
    "anime['popularity'][anime['status'] == 'Currently Airing'].mean()"
   ]
  },
  {
   "cell_type": "code",
   "execution_count": 63,
   "id": "1b6813ef-d17e-464d-821a-8b8839410334",
   "metadata": {},
   "outputs": [
    {
     "data": {
      "text/plain": [
       "4433.558057054742"
      ]
     },
     "execution_count": 63,
     "metadata": {},
     "output_type": "execute_result"
    }
   ],
   "source": [
    "anime['popularity'][anime['status'] == 'Finished Airing'].mean()"
   ]
  },
  {
   "cell_type": "markdown",
   "id": "fb7b64c6-2278-4521-88cb-e3fb6aa72d60",
   "metadata": {},
   "source": [
    "##### Looks like there is significant difference between current and finished airing, since the p value is not more than .05 ? Mean popularity is higher in Animes that are Currently Airing.\n"
   ]
  },
  {
   "cell_type": "markdown",
   "id": "41676c8a-9e63-4eca-ba70-1f92dd5f86f1",
   "metadata": {},
   "source": [
    "# Does the Source of the Anime Influence the Type of Anime?"
   ]
  },
  {
   "cell_type": "markdown",
   "id": "c0f7da8f-432a-408d-9bde-283600910c0a",
   "metadata": {},
   "source": [
    "##### recode values in source column to fall into 4 categories(3rd question)"
   ]
  },
  {
   "cell_type": "code",
   "execution_count": 11,
   "id": "58d8d66e-af37-4a44-9457-4560c5b9c906",
   "metadata": {},
   "outputs": [
    {
     "data": {
      "text/plain": [
       "Manga            2493\n",
       "Original         1789\n",
       "Light novel       512\n",
       "Visual novel      482\n",
       "Game              424\n",
       "Novel             282\n",
       "4-koma manga      194\n",
       "Other             170\n",
       "Web manga         111\n",
       "Music              55\n",
       "Picture book       53\n",
       "Card game          46\n",
       "Book               45\n",
       "Digital manga       7\n",
       "Radio               5\n",
       "Name: source, dtype: int64"
      ]
     },
     "execution_count": 11,
     "metadata": {},
     "output_type": "execute_result"
    }
   ],
   "source": [
    "anime.source.value_counts()"
   ]
  },
  {
   "cell_type": "code",
   "execution_count": 16,
   "id": "19ec1a09-5d85-4897-ac02-d2c69ca62d5a",
   "metadata": {},
   "outputs": [],
   "source": [
    "def source (series):\n",
    "    if series ==\"4-koma manga\":\n",
    "        return \"Manga\"\n",
    "    if series==\"Digital manga\":\n",
    "        return \"Manga\"\n",
    "    if series ==\"Manga\":\n",
    "        return \"Manga\"\n",
    "    if series ==\"Web Manga\":\n",
    "        return\"Manga\"\n",
    "    if series == \"Book\":\n",
    "        return\"Book\"\n",
    "    if series ==\"Light novel\":\n",
    "        return\"Book\"\n",
    "    if series== \"Novel\":\n",
    "        return\"Book\"\n",
    "    if series ==\"Picture book\":\n",
    "        return\"Book\"\n",
    "    if series==\"Visual novel\":\n",
    "        return\"Book\"\n",
    "    if series ==\"Card game\":\n",
    "        return\"Game\"\n",
    "    if series==\"Game\":\n",
    "        return\"Game\"\n",
    "    if series ==\"Music\":\n",
    "        return\"Listening\"\n",
    "    if series ==\"Radio\":\n",
    "        return\"Listening\"\n",
    "    if series ==\"Other\":\n",
    "        return\"Other\"\n",
    "    if series ==\"Original\":\n",
    "        return\"Other\""
   ]
  },
  {
   "cell_type": "code",
   "execution_count": 20,
   "id": "b3c55308-c110-46ac-9f6d-5d161a898688",
   "metadata": {},
   "outputs": [],
   "source": [
    "anime['sourceR'] = anime['source'].apply(source)"
   ]
  },
  {
   "cell_type": "code",
   "execution_count": 24,
   "id": "157ec4d7-35c9-4918-8826-886595e8fba6",
   "metadata": {},
   "outputs": [
    {
     "data": {
      "text/plain": [
       "Manga        2694\n",
       "Other        1959\n",
       "Book         1374\n",
       "Game          470\n",
       "Listening      60\n",
       "Name: sourceR, dtype: int64"
      ]
     },
     "execution_count": 24,
     "metadata": {},
     "output_type": "execute_result"
    }
   ],
   "source": [
    "anime.sourceR.value_counts()"
   ]
  },
  {
   "cell_type": "markdown",
   "id": "4c5bd309-40e4-41e1-acf6-b6120286ecb0",
   "metadata": {},
   "source": [
    "# How do the Variables about Popularity / Ranking Relate to Each Other?\n"
   ]
  },
  {
   "cell_type": "markdown",
   "id": "d9d7f1db-ffb4-4f14-b81c-7c028daf0dcf",
   "metadata": {},
   "source": [
    "## \n",
    "score,\n",
    "scored_by,\n",
    "rank,\n",
    "popularity,\n",
    "members,\n",
    "favorites"
   ]
  },
  {
   "cell_type": "code",
   "execution_count": 67,
   "id": "18f5dd12-e7d9-404e-8460-6714c41815ee",
   "metadata": {},
   "outputs": [],
   "source": [
    "import pandas as pd\n",
    "from scipy import stats"
   ]
  },
  {
   "cell_type": "code",
   "execution_count": 75,
   "id": "4e6c19de-cd61-48bc-81ba-81e37db4772c",
   "metadata": {},
   "outputs": [],
   "source": [
    "anime1 = anime.drop(['anime_id','episodes','airing','duration_min','aired_from_year'], axis=1)"
   ]
  },
  {
   "cell_type": "code",
   "execution_count": 76,
   "id": "745c204d-d99c-4370-93f8-32efbffdd17e",
   "metadata": {},
   "outputs": [
    {
     "data": {
      "text/html": [
       "<div>\n",
       "<style scoped>\n",
       "    .dataframe tbody tr th:only-of-type {\n",
       "        vertical-align: middle;\n",
       "    }\n",
       "\n",
       "    .dataframe tbody tr th {\n",
       "        vertical-align: top;\n",
       "    }\n",
       "\n",
       "    .dataframe thead th {\n",
       "        text-align: right;\n",
       "    }\n",
       "</style>\n",
       "<table border=\"1\" class=\"dataframe\">\n",
       "  <thead>\n",
       "    <tr style=\"text-align: right;\">\n",
       "      <th></th>\n",
       "      <th>score</th>\n",
       "      <th>scored_by</th>\n",
       "      <th>rank</th>\n",
       "      <th>popularity</th>\n",
       "      <th>members</th>\n",
       "      <th>favorites</th>\n",
       "    </tr>\n",
       "  </thead>\n",
       "  <tbody>\n",
       "    <tr>\n",
       "      <th>score</th>\n",
       "      <td>1.000000</td>\n",
       "      <td>0.381926</td>\n",
       "      <td>-0.898747</td>\n",
       "      <td>-0.688492</td>\n",
       "      <td>0.415626</td>\n",
       "      <td>0.256094</td>\n",
       "    </tr>\n",
       "    <tr>\n",
       "      <th>scored_by</th>\n",
       "      <td>0.381926</td>\n",
       "      <td>1.000000</td>\n",
       "      <td>-0.356686</td>\n",
       "      <td>-0.425719</td>\n",
       "      <td>0.987107</td>\n",
       "      <td>0.793949</td>\n",
       "    </tr>\n",
       "    <tr>\n",
       "      <th>rank</th>\n",
       "      <td>-0.898747</td>\n",
       "      <td>-0.356686</td>\n",
       "      <td>1.000000</td>\n",
       "      <td>0.777302</td>\n",
       "      <td>-0.391524</td>\n",
       "      <td>-0.208503</td>\n",
       "    </tr>\n",
       "    <tr>\n",
       "      <th>popularity</th>\n",
       "      <td>-0.688492</td>\n",
       "      <td>-0.425719</td>\n",
       "      <td>0.777302</td>\n",
       "      <td>1.000000</td>\n",
       "      <td>-0.474798</td>\n",
       "      <td>-0.210745</td>\n",
       "    </tr>\n",
       "    <tr>\n",
       "      <th>members</th>\n",
       "      <td>0.415626</td>\n",
       "      <td>0.987107</td>\n",
       "      <td>-0.391524</td>\n",
       "      <td>-0.474798</td>\n",
       "      <td>1.000000</td>\n",
       "      <td>0.781565</td>\n",
       "    </tr>\n",
       "    <tr>\n",
       "      <th>favorites</th>\n",
       "      <td>0.256094</td>\n",
       "      <td>0.793949</td>\n",
       "      <td>-0.208503</td>\n",
       "      <td>-0.210745</td>\n",
       "      <td>0.781565</td>\n",
       "      <td>1.000000</td>\n",
       "    </tr>\n",
       "  </tbody>\n",
       "</table>\n",
       "</div>"
      ],
      "text/plain": [
       "               score  scored_by      rank  popularity   members  favorites\n",
       "score       1.000000   0.381926 -0.898747   -0.688492  0.415626   0.256094\n",
       "scored_by   0.381926   1.000000 -0.356686   -0.425719  0.987107   0.793949\n",
       "rank       -0.898747  -0.356686  1.000000    0.777302 -0.391524  -0.208503\n",
       "popularity -0.688492  -0.425719  0.777302    1.000000 -0.474798  -0.210745\n",
       "members     0.415626   0.987107 -0.391524   -0.474798  1.000000   0.781565\n",
       "favorites   0.256094   0.793949 -0.208503   -0.210745  0.781565   1.000000"
      ]
     },
     "execution_count": 76,
     "metadata": {},
     "output_type": "execute_result"
    }
   ],
   "source": [
    "anime1.corr(method='pearson')"
   ]
  },
  {
   "cell_type": "code",
   "execution_count": 77,
   "id": "01021850-cf08-4b2b-adb2-09ac18695131",
   "metadata": {},
   "outputs": [
    {
     "data": {
      "text/html": [
       "<style type=\"text/css\">\n",
       "#T_c4cd3_row0_col0, #T_c4cd3_row1_col1, #T_c4cd3_row2_col2, #T_c4cd3_row3_col3, #T_c4cd3_row4_col4, #T_c4cd3_row5_col5 {\n",
       "  background-color: #b40426;\n",
       "  color: #f1f1f1;\n",
       "}\n",
       "#T_c4cd3_row0_col1 {\n",
       "  background-color: #f7b599;\n",
       "  color: #000000;\n",
       "}\n",
       "#T_c4cd3_row0_col2, #T_c4cd3_row1_col3, #T_c4cd3_row2_col0, #T_c4cd3_row3_col0, #T_c4cd3_row4_col3, #T_c4cd3_row5_col2, #T_c4cd3_row5_col3 {\n",
       "  background-color: #3b4cc0;\n",
       "  color: #f1f1f1;\n",
       "}\n",
       "#T_c4cd3_row0_col3 {\n",
       "  background-color: #5d7ce6;\n",
       "  color: #f1f1f1;\n",
       "}\n",
       "#T_c4cd3_row0_col4 {\n",
       "  background-color: #f7af91;\n",
       "  color: #000000;\n",
       "}\n",
       "#T_c4cd3_row0_col5 {\n",
       "  background-color: #f2c9b4;\n",
       "  color: #000000;\n",
       "}\n",
       "#T_c4cd3_row1_col0 {\n",
       "  background-color: #edd2c3;\n",
       "  color: #000000;\n",
       "}\n",
       "#T_c4cd3_row1_col2 {\n",
       "  background-color: #4961d2;\n",
       "  color: #f1f1f1;\n",
       "}\n",
       "#T_c4cd3_row1_col4, #T_c4cd3_row4_col1 {\n",
       "  background-color: #b70d28;\n",
       "  color: #f1f1f1;\n",
       "}\n",
       "#T_c4cd3_row1_col5 {\n",
       "  background-color: #e26952;\n",
       "  color: #f1f1f1;\n",
       "}\n",
       "#T_c4cd3_row2_col1 {\n",
       "  background-color: #9abbff;\n",
       "  color: #000000;\n",
       "}\n",
       "#T_c4cd3_row2_col3 {\n",
       "  background-color: #dc5d4a;\n",
       "  color: #f1f1f1;\n",
       "}\n",
       "#T_c4cd3_row2_col4 {\n",
       "  background-color: #93b5fe;\n",
       "  color: #000000;\n",
       "}\n",
       "#T_c4cd3_row2_col5 {\n",
       "  background-color: #b5cdfa;\n",
       "  color: #000000;\n",
       "}\n",
       "#T_c4cd3_row3_col1 {\n",
       "  background-color: #6b8df0;\n",
       "  color: #f1f1f1;\n",
       "}\n",
       "#T_c4cd3_row3_col2 {\n",
       "  background-color: #df634e;\n",
       "  color: #f1f1f1;\n",
       "}\n",
       "#T_c4cd3_row3_col4 {\n",
       "  background-color: #6282ea;\n",
       "  color: #f1f1f1;\n",
       "}\n",
       "#T_c4cd3_row3_col5 {\n",
       "  background-color: #98b9ff;\n",
       "  color: #000000;\n",
       "}\n",
       "#T_c4cd3_row4_col0 {\n",
       "  background-color: #f2cab5;\n",
       "  color: #000000;\n",
       "}\n",
       "#T_c4cd3_row4_col2 {\n",
       "  background-color: #4b64d5;\n",
       "  color: #f1f1f1;\n",
       "}\n",
       "#T_c4cd3_row4_col5 {\n",
       "  background-color: #e36b54;\n",
       "  color: #f1f1f1;\n",
       "}\n",
       "#T_c4cd3_row5_col0 {\n",
       "  background-color: #bbd1f8;\n",
       "  color: #000000;\n",
       "}\n",
       "#T_c4cd3_row5_col1 {\n",
       "  background-color: #e8765c;\n",
       "  color: #f1f1f1;\n",
       "}\n",
       "#T_c4cd3_row5_col4 {\n",
       "  background-color: #ea7b60;\n",
       "  color: #f1f1f1;\n",
       "}\n",
       "</style>\n",
       "<table id=\"T_c4cd3\">\n",
       "  <thead>\n",
       "    <tr>\n",
       "      <th class=\"blank level0\" >&nbsp;</th>\n",
       "      <th id=\"T_c4cd3_level0_col0\" class=\"col_heading level0 col0\" >score</th>\n",
       "      <th id=\"T_c4cd3_level0_col1\" class=\"col_heading level0 col1\" >scored_by</th>\n",
       "      <th id=\"T_c4cd3_level0_col2\" class=\"col_heading level0 col2\" >rank</th>\n",
       "      <th id=\"T_c4cd3_level0_col3\" class=\"col_heading level0 col3\" >popularity</th>\n",
       "      <th id=\"T_c4cd3_level0_col4\" class=\"col_heading level0 col4\" >members</th>\n",
       "      <th id=\"T_c4cd3_level0_col5\" class=\"col_heading level0 col5\" >favorites</th>\n",
       "    </tr>\n",
       "  </thead>\n",
       "  <tbody>\n",
       "    <tr>\n",
       "      <th id=\"T_c4cd3_level0_row0\" class=\"row_heading level0 row0\" >score</th>\n",
       "      <td id=\"T_c4cd3_row0_col0\" class=\"data row0 col0\" >1.0</td>\n",
       "      <td id=\"T_c4cd3_row0_col1\" class=\"data row0 col1\" >0.38</td>\n",
       "      <td id=\"T_c4cd3_row0_col2\" class=\"data row0 col2\" >-0.9</td>\n",
       "      <td id=\"T_c4cd3_row0_col3\" class=\"data row0 col3\" >-0.69</td>\n",
       "      <td id=\"T_c4cd3_row0_col4\" class=\"data row0 col4\" >0.42</td>\n",
       "      <td id=\"T_c4cd3_row0_col5\" class=\"data row0 col5\" >0.26</td>\n",
       "    </tr>\n",
       "    <tr>\n",
       "      <th id=\"T_c4cd3_level0_row1\" class=\"row_heading level0 row1\" >scored_by</th>\n",
       "      <td id=\"T_c4cd3_row1_col0\" class=\"data row1 col0\" >0.38</td>\n",
       "      <td id=\"T_c4cd3_row1_col1\" class=\"data row1 col1\" >1.0</td>\n",
       "      <td id=\"T_c4cd3_row1_col2\" class=\"data row1 col2\" >-0.36</td>\n",
       "      <td id=\"T_c4cd3_row1_col3\" class=\"data row1 col3\" >-0.43</td>\n",
       "      <td id=\"T_c4cd3_row1_col4\" class=\"data row1 col4\" >0.99</td>\n",
       "      <td id=\"T_c4cd3_row1_col5\" class=\"data row1 col5\" >0.79</td>\n",
       "    </tr>\n",
       "    <tr>\n",
       "      <th id=\"T_c4cd3_level0_row2\" class=\"row_heading level0 row2\" >rank</th>\n",
       "      <td id=\"T_c4cd3_row2_col0\" class=\"data row2 col0\" >-0.9</td>\n",
       "      <td id=\"T_c4cd3_row2_col1\" class=\"data row2 col1\" >-0.36</td>\n",
       "      <td id=\"T_c4cd3_row2_col2\" class=\"data row2 col2\" >1.0</td>\n",
       "      <td id=\"T_c4cd3_row2_col3\" class=\"data row2 col3\" >0.78</td>\n",
       "      <td id=\"T_c4cd3_row2_col4\" class=\"data row2 col4\" >-0.39</td>\n",
       "      <td id=\"T_c4cd3_row2_col5\" class=\"data row2 col5\" >-0.21</td>\n",
       "    </tr>\n",
       "    <tr>\n",
       "      <th id=\"T_c4cd3_level0_row3\" class=\"row_heading level0 row3\" >popularity</th>\n",
       "      <td id=\"T_c4cd3_row3_col0\" class=\"data row3 col0\" >-0.69</td>\n",
       "      <td id=\"T_c4cd3_row3_col1\" class=\"data row3 col1\" >-0.43</td>\n",
       "      <td id=\"T_c4cd3_row3_col2\" class=\"data row3 col2\" >0.78</td>\n",
       "      <td id=\"T_c4cd3_row3_col3\" class=\"data row3 col3\" >1.0</td>\n",
       "      <td id=\"T_c4cd3_row3_col4\" class=\"data row3 col4\" >-0.47</td>\n",
       "      <td id=\"T_c4cd3_row3_col5\" class=\"data row3 col5\" >-0.21</td>\n",
       "    </tr>\n",
       "    <tr>\n",
       "      <th id=\"T_c4cd3_level0_row4\" class=\"row_heading level0 row4\" >members</th>\n",
       "      <td id=\"T_c4cd3_row4_col0\" class=\"data row4 col0\" >0.42</td>\n",
       "      <td id=\"T_c4cd3_row4_col1\" class=\"data row4 col1\" >0.99</td>\n",
       "      <td id=\"T_c4cd3_row4_col2\" class=\"data row4 col2\" >-0.39</td>\n",
       "      <td id=\"T_c4cd3_row4_col3\" class=\"data row4 col3\" >-0.47</td>\n",
       "      <td id=\"T_c4cd3_row4_col4\" class=\"data row4 col4\" >1.0</td>\n",
       "      <td id=\"T_c4cd3_row4_col5\" class=\"data row4 col5\" >0.78</td>\n",
       "    </tr>\n",
       "    <tr>\n",
       "      <th id=\"T_c4cd3_level0_row5\" class=\"row_heading level0 row5\" >favorites</th>\n",
       "      <td id=\"T_c4cd3_row5_col0\" class=\"data row5 col0\" >0.26</td>\n",
       "      <td id=\"T_c4cd3_row5_col1\" class=\"data row5 col1\" >0.79</td>\n",
       "      <td id=\"T_c4cd3_row5_col2\" class=\"data row5 col2\" >-0.21</td>\n",
       "      <td id=\"T_c4cd3_row5_col3\" class=\"data row5 col3\" >-0.21</td>\n",
       "      <td id=\"T_c4cd3_row5_col4\" class=\"data row5 col4\" >0.78</td>\n",
       "      <td id=\"T_c4cd3_row5_col5\" class=\"data row5 col5\" >1.0</td>\n",
       "    </tr>\n",
       "  </tbody>\n",
       "</table>\n"
      ],
      "text/plain": [
       "<pandas.io.formats.style.Styler at 0x1547a0070>"
      ]
     },
     "execution_count": 77,
     "metadata": {},
     "output_type": "execute_result"
    }
   ],
   "source": [
    "anime1.corr(method='pearson').style.format(\"{:.2}\").background_gradient(cmap=plt.get_cmap('coolwarm'), axis=1)"
   ]
  },
  {
   "cell_type": "markdown",
   "id": "c2c0d147-95ee-45fd-8dfc-a8d520d8af06",
   "metadata": {},
   "source": [
    "## Now you can very easily see that row of 1s, since they are all highlighted in red as a perfect correlation.  The warmer colors (shades of red/pinkk) are positive correlations, and the darker the color, the stronger the correlation. \n",
    "\n",
    "## The cooler colors (shades of blue) are negative correlations, and again, the stronger the correlation, the deeper or more vibrant the color. \n",
    "\n",
    "## Looks like average score_by correlates with a number of different things pretty strongly, and fairway percentaged correlates with average distance pretty well too*"
   ]
  }
 ],
 "metadata": {
  "kernelspec": {
   "display_name": "Python 3 (ipykernel)",
   "language": "python",
   "name": "python3"
  },
  "language_info": {
   "codemirror_mode": {
    "name": "ipython",
    "version": 3
   },
   "file_extension": ".py",
   "mimetype": "text/x-python",
   "name": "python",
   "nbconvert_exporter": "python",
   "pygments_lexer": "ipython3",
   "version": "3.9.13"
  }
 },
 "nbformat": 4,
 "nbformat_minor": 5
}
